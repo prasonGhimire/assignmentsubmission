{
 "cells": [
  {
   "cell_type": "code",
   "execution_count": 1,
   "id": "501d2ed1",
   "metadata": {},
   "outputs": [],
   "source": [
    "import pandas as pd\n",
    "import numpy as np\n",
    "import matplotlib.pyplot as plt\n"
   ]
  },
  {
   "cell_type": "code",
   "execution_count": 2,
   "id": "abdf07f2",
   "metadata": {},
   "outputs": [
    {
     "data": {
      "text/html": [
       "<div>\n",
       "<style scoped>\n",
       "    .dataframe tbody tr th:only-of-type {\n",
       "        vertical-align: middle;\n",
       "    }\n",
       "\n",
       "    .dataframe tbody tr th {\n",
       "        vertical-align: top;\n",
       "    }\n",
       "\n",
       "    .dataframe thead th {\n",
       "        text-align: right;\n",
       "    }\n",
       "</style>\n",
       "<table border=\"1\" class=\"dataframe\">\n",
       "  <thead>\n",
       "    <tr style=\"text-align: right;\">\n",
       "      <th></th>\n",
       "      <th>submission</th>\n",
       "      <th>submit_time</th>\n",
       "    </tr>\n",
       "  </thead>\n",
       "  <tbody>\n",
       "    <tr>\n",
       "      <th>0</th>\n",
       "      <td>https://ckd.upgrad.com/UpGrad/73ba5189-94fd-44...</td>\n",
       "      <td>01/03/17-20:28:52</td>\n",
       "    </tr>\n",
       "    <tr>\n",
       "      <th>1</th>\n",
       "      <td>https://ckd.upgrad.com/UpGrad/185242ff-7508-4c...</td>\n",
       "      <td>01/03/17-20:18:21</td>\n",
       "    </tr>\n",
       "    <tr>\n",
       "      <th>2</th>\n",
       "      <td>https://ckd.upgrad.com/UpGrad/a353d129-c100-43...</td>\n",
       "      <td>01/03/17-22:37:08</td>\n",
       "    </tr>\n",
       "    <tr>\n",
       "      <th>3</th>\n",
       "      <td>https://ckd.upgrad.com/UpGrad/002fc912-faa1-49...</td>\n",
       "      <td>01/02/17-21:43:19</td>\n",
       "    </tr>\n",
       "    <tr>\n",
       "      <th>4</th>\n",
       "      <td>https://ckd.upgrad.com/UpGrad/25cbc4a4-6d49-4f...</td>\n",
       "      <td>01/03/17-15:27:49</td>\n",
       "    </tr>\n",
       "  </tbody>\n",
       "</table>\n",
       "</div>"
      ],
      "text/plain": [
       "                                          submission        submit_time\n",
       "0  https://ckd.upgrad.com/UpGrad/73ba5189-94fd-44...  01/03/17-20:28:52\n",
       "1  https://ckd.upgrad.com/UpGrad/185242ff-7508-4c...  01/03/17-20:18:21\n",
       "2  https://ckd.upgrad.com/UpGrad/a353d129-c100-43...  01/03/17-22:37:08\n",
       "3  https://ckd.upgrad.com/UpGrad/002fc912-faa1-49...  01/02/17-21:43:19\n",
       "4  https://ckd.upgrad.com/UpGrad/25cbc4a4-6d49-4f...  01/03/17-15:27:49"
      ]
     },
     "execution_count": 2,
     "metadata": {},
     "output_type": "execute_result"
    }
   ],
   "source": [
    "df = pd.read_csv('grades.csv')\n",
    "df.head()"
   ]
  },
  {
   "cell_type": "code",
   "execution_count": 3,
   "id": "3216d5c0",
   "metadata": {},
   "outputs": [
    {
     "data": {
      "text/plain": [
       "'https://ckd.upgrad.com/UpGrad/73ba5189-94fd-44aa-88d3-6b36aaa69b02/DDA1610095.zip'"
      ]
     },
     "execution_count": 3,
     "metadata": {},
     "output_type": "execute_result"
    }
   ],
   "source": [
    "df.submission[0]"
   ]
  },
  {
   "cell_type": "code",
   "execution_count": 4,
   "id": "927048b4",
   "metadata": {},
   "outputs": [],
   "source": [
    "index_dt=pd.DatetimeIndex(df.submit_time)"
   ]
  },
  {
   "cell_type": "code",
   "execution_count": 5,
   "id": "b2739e55",
   "metadata": {},
   "outputs": [],
   "source": [
    "df[['day','month','year','hour','min','sec']]=list(map(lambda index_dt: (index_dt.day,index_dt.month,index_dt.year,index_dt.hour,index_dt.minute,index_dt.second),index_dt))"
   ]
  },
  {
   "cell_type": "code",
   "execution_count": 6,
   "id": "80f97af3",
   "metadata": {},
   "outputs": [
    {
     "data": {
      "text/plain": [
       "(198, 8)"
      ]
     },
     "execution_count": 6,
     "metadata": {},
     "output_type": "execute_result"
    }
   ],
   "source": [
    "df.shape"
   ]
  },
  {
   "cell_type": "code",
   "execution_count": 7,
   "id": "1bf81532",
   "metadata": {},
   "outputs": [],
   "source": [
    "def fileinfo(x):\n",
    "    filed=x.rsplit('/',1)[1]\n",
    "    ext=filed.rsplit('.')[1]\n",
    "    roll=filed.rsplit('.')[0]\n",
    "    return roll,ext"
   ]
  },
  {
   "cell_type": "code",
   "execution_count": 8,
   "id": "fcd66ce0",
   "metadata": {},
   "outputs": [],
   "source": [
    "df[['roll_number','extension']]=df.submission.apply(lambda x: fileinfo(x)).tolist()"
   ]
  },
  {
   "cell_type": "code",
   "execution_count": 9,
   "id": "27d43c5a",
   "metadata": {},
   "outputs": [
    {
     "data": {
      "text/plain": [
       "extension\n",
       "7z     0.010101\n",
       "R      0.035354\n",
       "zip    0.954545\n",
       "Name: submission, dtype: float64"
      ]
     },
     "execution_count": 9,
     "metadata": {},
     "output_type": "execute_result"
    }
   ],
   "source": [
    "df.groupby('extension').count()['submission']/df.submission.count()"
   ]
  },
  {
   "cell_type": "code",
   "execution_count": 31,
   "id": "99847ce5",
   "metadata": {},
   "outputs": [],
   "source": [
    "first_deadline=pd.DatetimeIndex(['Jan 3, 2017 - 11:59:59 PM'])\n",
    "second_deadline=pd.DatetimeIndex(['Jan 9, 2017 - 11:59 PM'])"
   ]
  },
  {
   "cell_type": "code",
   "execution_count": 32,
   "id": "2298af79",
   "metadata": {},
   "outputs": [],
   "source": [
    "df['submit_time']=index_dt"
   ]
  },
  {
   "cell_type": "code",
   "execution_count": 33,
   "id": "fbc0710d",
   "metadata": {},
   "outputs": [],
   "source": [
    "df['submited_afterfirst']=df.submit_time>first_deadline[0]"
   ]
  },
  {
   "cell_type": "code",
   "execution_count": 34,
   "id": "1aa5fda4",
   "metadata": {},
   "outputs": [],
   "source": [
    "df['submited_beforefirst']=df.submit_time<first_deadline[0]"
   ]
  },
  {
   "cell_type": "code",
   "execution_count": 35,
   "id": "0d910f20",
   "metadata": {},
   "outputs": [],
   "source": [
    "df['submited_aftersecond']=df.submit_time>second_deadline[0]\n",
    "df['submited_aftersecond']=df.submit_time<second_deadline[0]"
   ]
  },
  {
   "cell_type": "code",
   "execution_count": 36,
   "id": "4b899da0",
   "metadata": {},
   "outputs": [
    {
     "data": {
      "text/html": [
       "<div>\n",
       "<style scoped>\n",
       "    .dataframe tbody tr th:only-of-type {\n",
       "        vertical-align: middle;\n",
       "    }\n",
       "\n",
       "    .dataframe tbody tr th {\n",
       "        vertical-align: top;\n",
       "    }\n",
       "\n",
       "    .dataframe thead th {\n",
       "        text-align: right;\n",
       "    }\n",
       "</style>\n",
       "<table border=\"1\" class=\"dataframe\">\n",
       "  <thead>\n",
       "    <tr style=\"text-align: right;\">\n",
       "      <th></th>\n",
       "      <th>submission</th>\n",
       "      <th>submit_time</th>\n",
       "      <th>day</th>\n",
       "      <th>month</th>\n",
       "      <th>year</th>\n",
       "      <th>hour</th>\n",
       "      <th>min</th>\n",
       "      <th>sec</th>\n",
       "      <th>roll_number</th>\n",
       "      <th>extension</th>\n",
       "      <th>submited_afterfirst</th>\n",
       "      <th>submited_beforefirst</th>\n",
       "      <th>submited_aftersecond</th>\n",
       "    </tr>\n",
       "  </thead>\n",
       "  <tbody>\n",
       "    <tr>\n",
       "      <th>0</th>\n",
       "      <td>https://ckd.upgrad.com/UpGrad/73ba5189-94fd-44...</td>\n",
       "      <td>2017-01-03 20:28:52</td>\n",
       "      <td>3</td>\n",
       "      <td>1</td>\n",
       "      <td>2017</td>\n",
       "      <td>20</td>\n",
       "      <td>28</td>\n",
       "      <td>52</td>\n",
       "      <td>DDA1610095</td>\n",
       "      <td>zip</td>\n",
       "      <td>False</td>\n",
       "      <td>True</td>\n",
       "      <td>True</td>\n",
       "    </tr>\n",
       "    <tr>\n",
       "      <th>1</th>\n",
       "      <td>https://ckd.upgrad.com/UpGrad/185242ff-7508-4c...</td>\n",
       "      <td>2017-01-03 20:18:21</td>\n",
       "      <td>3</td>\n",
       "      <td>1</td>\n",
       "      <td>2017</td>\n",
       "      <td>20</td>\n",
       "      <td>18</td>\n",
       "      <td>21</td>\n",
       "      <td>DDA1610288</td>\n",
       "      <td>zip</td>\n",
       "      <td>False</td>\n",
       "      <td>True</td>\n",
       "      <td>True</td>\n",
       "    </tr>\n",
       "    <tr>\n",
       "      <th>2</th>\n",
       "      <td>https://ckd.upgrad.com/UpGrad/a353d129-c100-43...</td>\n",
       "      <td>2017-01-03 22:37:08</td>\n",
       "      <td>3</td>\n",
       "      <td>1</td>\n",
       "      <td>2017</td>\n",
       "      <td>22</td>\n",
       "      <td>37</td>\n",
       "      <td>8</td>\n",
       "      <td>DDA1610106</td>\n",
       "      <td>zip</td>\n",
       "      <td>False</td>\n",
       "      <td>True</td>\n",
       "      <td>True</td>\n",
       "    </tr>\n",
       "    <tr>\n",
       "      <th>3</th>\n",
       "      <td>https://ckd.upgrad.com/UpGrad/002fc912-faa1-49...</td>\n",
       "      <td>2017-01-02 21:43:19</td>\n",
       "      <td>2</td>\n",
       "      <td>1</td>\n",
       "      <td>2017</td>\n",
       "      <td>21</td>\n",
       "      <td>43</td>\n",
       "      <td>19</td>\n",
       "      <td>DDA1610261</td>\n",
       "      <td>zip</td>\n",
       "      <td>False</td>\n",
       "      <td>True</td>\n",
       "      <td>True</td>\n",
       "    </tr>\n",
       "    <tr>\n",
       "      <th>4</th>\n",
       "      <td>https://ckd.upgrad.com/UpGrad/25cbc4a4-6d49-4f...</td>\n",
       "      <td>2017-01-03 15:27:49</td>\n",
       "      <td>3</td>\n",
       "      <td>1</td>\n",
       "      <td>2017</td>\n",
       "      <td>15</td>\n",
       "      <td>27</td>\n",
       "      <td>49</td>\n",
       "      <td>DDA1610028</td>\n",
       "      <td>zip</td>\n",
       "      <td>False</td>\n",
       "      <td>True</td>\n",
       "      <td>True</td>\n",
       "    </tr>\n",
       "  </tbody>\n",
       "</table>\n",
       "</div>"
      ],
      "text/plain": [
       "                                          submission         submit_time  day  \\\n",
       "0  https://ckd.upgrad.com/UpGrad/73ba5189-94fd-44... 2017-01-03 20:28:52    3   \n",
       "1  https://ckd.upgrad.com/UpGrad/185242ff-7508-4c... 2017-01-03 20:18:21    3   \n",
       "2  https://ckd.upgrad.com/UpGrad/a353d129-c100-43... 2017-01-03 22:37:08    3   \n",
       "3  https://ckd.upgrad.com/UpGrad/002fc912-faa1-49... 2017-01-02 21:43:19    2   \n",
       "4  https://ckd.upgrad.com/UpGrad/25cbc4a4-6d49-4f... 2017-01-03 15:27:49    3   \n",
       "\n",
       "   month  year  hour  min  sec roll_number extension  submited_afterfirst  \\\n",
       "0      1  2017    20   28   52  DDA1610095       zip                False   \n",
       "1      1  2017    20   18   21  DDA1610288       zip                False   \n",
       "2      1  2017    22   37    8  DDA1610106       zip                False   \n",
       "3      1  2017    21   43   19  DDA1610261       zip                False   \n",
       "4      1  2017    15   27   49  DDA1610028       zip                False   \n",
       "\n",
       "   submited_beforefirst  submited_aftersecond  \n",
       "0                  True                  True  \n",
       "1                  True                  True  \n",
       "2                  True                  True  \n",
       "3                  True                  True  \n",
       "4                  True                  True  "
      ]
     },
     "execution_count": 36,
     "metadata": {},
     "output_type": "execute_result"
    }
   ],
   "source": [
    "df.head()"
   ]
  },
  {
   "cell_type": "code",
   "execution_count": 37,
   "id": "810c0c97",
   "metadata": {},
   "outputs": [
    {
     "data": {
      "text/plain": [
       "submission              44\n",
       "submit_time             44\n",
       "day                     44\n",
       "month                   44\n",
       "year                    44\n",
       "hour                    44\n",
       "min                     44\n",
       "sec                     44\n",
       "roll_number             44\n",
       "extension               44\n",
       "submited_afterfirst     44\n",
       "submited_beforefirst    44\n",
       "submited_aftersecond    44\n",
       "dtype: int64"
      ]
     },
     "execution_count": 37,
     "metadata": {},
     "output_type": "execute_result"
    }
   ],
   "source": [
    "df[df.submited_afterfirst].count()"
   ]
  },
  {
   "cell_type": "code",
   "execution_count": 39,
   "id": "2e70c8a4",
   "metadata": {},
   "outputs": [
    {
     "data": {
      "text/plain": [
       "(3, 2017, 1)"
      ]
     },
     "execution_count": 39,
     "metadata": {},
     "output_type": "execute_result"
    }
   ],
   "source": [
    "df.groupby(['day','year','month']).count()['submission'].idxmax()"
   ]
  },
  {
   "cell_type": "code",
   "execution_count": 40,
   "id": "d05fdfe5",
   "metadata": {},
   "outputs": [
    {
     "data": {
      "text/plain": [
       "(23, 59)"
      ]
     },
     "execution_count": 40,
     "metadata": {},
     "output_type": "execute_result"
    }
   ],
   "source": [
    "df.groupby(['hour','min']).count()['submission'].idxmax()"
   ]
  },
  {
   "cell_type": "code",
   "execution_count": 47,
   "id": "ce99d50d",
   "metadata": {},
   "outputs": [
    {
     "data": {
      "text/plain": [
       "<AxesSubplot:xlabel='hour'>"
      ]
     },
     "execution_count": 47,
     "metadata": {},
     "output_type": "execute_result"
    },
    {
     "data": {
      "image/png": "[encoded data removed]",
      "text/plain": [
       "<Figure size 432x288 with 1 Axes>"
      ]
     },
     "metadata": {
      "needs_background": "light"
     },
     "output_type": "display_data"
    }
   ],
   "source": [
    "df.groupby(['hour']).count()['submission'].plot()"
   ]
  },
  {
   "cell_type": "code",
   "execution_count": 44,
   "id": "2a145b14",
   "metadata": {},
   "outputs": [
    {
     "data": {
      "text/plain": [
       "hour\n",
       "0     10\n",
       "1      8\n",
       "2      2\n",
       "3      3\n",
       "4      2\n",
       "6      1\n",
       "8      1\n",
       "9      1\n",
       "10     3\n",
       "11     1\n",
       "12     3\n",
       "13     6\n",
       "14     6\n",
       "15     4\n",
       "16     2\n",
       "17     4\n",
       "18     6\n",
       "19     2\n",
       "20    16\n",
       "21    27\n",
       "22    24\n",
       "23    66\n",
       "Name: submission, dtype: int64"
      ]
     },
     "execution_count": 44,
     "metadata": {},
     "output_type": "execute_result"
    }
   ],
   "source": [
    "df.groupby(['hour']).count()['submission']"
   ]
  }
 ],
 "metadata": {
  "kernelspec": {
   "display_name": "Python 3 (ipykernel)",
   "language": "python",
   "name": "python3"
  },
  "language_info": {
   "codemirror_mode": {
    "name": "ipython",
    "version": 3
   },
   "file_extension": ".py",
   "mimetype": "text/x-python",
   "name": "python",
   "nbconvert_exporter": "python",
   "pygments_lexer": "ipython3",
   "version": "3.8.6"
  }
 },
 "nbformat": 4,
 "nbformat_minor": 5
}
